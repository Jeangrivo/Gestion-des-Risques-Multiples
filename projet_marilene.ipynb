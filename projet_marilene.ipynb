{
 "cells": [
  {
   "cell_type": "markdown",
   "metadata": {},
   "source": [
    "# PROJET DE THEORIE DES COPULES"
   ]
  },
  {
   "cell_type": "markdown",
   "metadata": {},
   "source": [
    "## Question 1\n",
    "À partir des spreads de CDS des deux entreprises pour différentes\n",
    "maturités, extraire les probabilités de défaut implicites."
   ]
  },
  {
   "cell_type": "code",
   "execution_count": 1,
   "metadata": {},
   "outputs": [],
   "source": [
    "##  La variable de defaut suit une loi exponentielle de paramètre lamda \n",
    "\n",
    "def lambda_T (spread_T, R_T):\n",
    "    return spread_T/(1 + R_T)\n",
    "\n",
    "lamba_BNP_4 = lambda_T(0.01, 0.6)\n",
    "lamda_SG_4 = lambda_T(0.012,0.3)\n"
   ]
  },
  {
   "cell_type": "code",
   "execution_count": 3,
   "metadata": {},
   "outputs": [],
   "source": [
    "import math\n",
    "def proba_defaut(lambda_ , T):\n",
    "    return 1 - math.exp(-lambda_ * T)"
   ]
  },
  {
   "cell_type": "code",
   "execution_count": 7,
   "metadata": {},
   "outputs": [
    {
     "name": "stdout",
     "output_type": "stream",
     "text": [
      "proba defaut SG à horizon 4 ans : 0.0362497328662722 \n",
      " Proba defaut BNP à horizon 4 ans 0.024690087971667385\n"
     ]
    }
   ],
   "source": [
    "PD_SG_4 = proba_defaut(lamda_SG_4,4)\n",
    "PD_BNP_4 = proba_defaut(lamba_BNP_4,4)\n",
    "print(\"proba defaut SG à horizon 4 ans :\", PD_SG_4, \"\\n Proba defaut BNP à horizon 4 ans\", PD_BNP_4)"
   ]
  },
  {
   "cell_type": "markdown",
   "metadata": {},
   "source": []
  }
 ],
 "metadata": {
  "kernelspec": {
   "display_name": "Python 3",
   "language": "python",
   "name": "python3"
  },
  "language_info": {
   "codemirror_mode": {
    "name": "ipython",
    "version": 3
   },
   "file_extension": ".py",
   "mimetype": "text/x-python",
   "name": "python",
   "nbconvert_exporter": "python",
   "pygments_lexer": "ipython3",
   "version": "3.10.4"
  }
 },
 "nbformat": 4,
 "nbformat_minor": 2
}
